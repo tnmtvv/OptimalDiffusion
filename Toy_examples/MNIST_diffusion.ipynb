{
  "nbformat": 4,
  "nbformat_minor": 0,
  "metadata": {
    "colab": {
      "provenance": [],
      "gpuType": "T4"
    },
    "kernelspec": {
      "name": "python3",
      "display_name": "Python 3"
    },
    "language_info": {
      "name": "python"
    },
    "accelerator": "GPU"
  },
  "cells": [
    {
      "cell_type": "code",
      "execution_count": 1,
      "metadata": {
        "colab": {
          "base_uri": "https://localhost:8080/"
        },
        "id": "21m2luCrnfiK",
        "outputId": "2bb581f2-6e4d-445e-cd76-9581c5fdf415"
      },
      "outputs": [
        {
          "output_type": "stream",
          "name": "stdout",
          "text": [
            "Cloning into 'OptimalDiffusion'...\n",
            "remote: Enumerating objects: 197, done.\u001b[K\n",
            "remote: Counting objects: 100% (197/197), done.\u001b[K\n",
            "remote: Compressing objects: 100% (130/130), done.\u001b[K\n",
            "remote: Total 197 (delta 90), reused 166 (delta 59), pack-reused 0 (from 0)\u001b[K\n",
            "Receiving objects: 100% (197/197), 13.82 MiB | 13.46 MiB/s, done.\n",
            "Resolving deltas: 100% (90/90), done.\n"
          ]
        }
      ],
      "source": [
        "!git clone -b Stochastics-project https://github.com/tnmtvv/OptimalDiffusion.git"
      ]
    },
    {
      "cell_type": "code",
      "source": [
        "!pip install tensorboardX"
      ],
      "metadata": {
        "colab": {
          "base_uri": "https://localhost:8080/"
        },
        "id": "mIjSCFOdrp-8",
        "outputId": "ed0d45aa-b907-44c2-ef74-1d8935c714b0"
      },
      "execution_count": 2,
      "outputs": [
        {
          "output_type": "stream",
          "name": "stdout",
          "text": [
            "Collecting tensorboardX\n",
            "  Downloading tensorboardX-2.6.2.2-py2.py3-none-any.whl.metadata (5.8 kB)\n",
            "Requirement already satisfied: numpy in /usr/local/lib/python3.10/dist-packages (from tensorboardX) (1.26.4)\n",
            "Requirement already satisfied: packaging in /usr/local/lib/python3.10/dist-packages (from tensorboardX) (24.2)\n",
            "Requirement already satisfied: protobuf>=3.20 in /usr/local/lib/python3.10/dist-packages (from tensorboardX) (4.25.5)\n",
            "Downloading tensorboardX-2.6.2.2-py2.py3-none-any.whl (101 kB)\n",
            "\u001b[?25l   \u001b[90m━━━━━━━━━━━━━━━━━━━━━━━━━━━━━━━━━━━━━━━━\u001b[0m \u001b[32m0.0/101.7 kB\u001b[0m \u001b[31m?\u001b[0m eta \u001b[36m-:--:--\u001b[0m\r\u001b[2K   \u001b[90m━━━━━━━━━━━━━━━━━━━━━━━━━━━━━━━━━━━━━━━━\u001b[0m \u001b[32m101.7/101.7 kB\u001b[0m \u001b[31m9.0 MB/s\u001b[0m eta \u001b[36m0:00:00\u001b[0m\n",
            "\u001b[?25hInstalling collected packages: tensorboardX\n",
            "Successfully installed tensorboardX-2.6.2.2\n"
          ]
        }
      ]
    },
    {
      "cell_type": "code",
      "source": [
        "import os.path\n",
        "from os import path\n",
        "\n",
        "if path.exists('/content/OptimalDiffusion/test_assets') == False:\n",
        "  os.mkdir('/content/OptimalDiffusion/test_assets')\n",
        "\n",
        "os.chdir('/content/OptimalDiffusion/test_assets')\n",
        "!pwd\n",
        "!ls\n",
        "\n",
        "os.chdir(\"/content\")"
      ],
      "metadata": {
        "colab": {
          "base_uri": "https://localhost:8080/"
        },
        "id": "hNV3zVW-1nc0",
        "outputId": "3ac5e15d-7190-4eaf-d0c2-53058ca015fd"
      },
      "execution_count": 5,
      "outputs": [
        {
          "output_type": "stream",
          "name": "stdout",
          "text": [
            "/content/OptimalDiffusion/test_assets\n"
          ]
        }
      ]
    },
    {
      "cell_type": "code",
      "source": [
        "# Change directory to the mnist script location\n",
        "%cd OptimalDiffusion/Image-examples/mnist\n",
        "\n",
        "# Run the bash script\n",
        "!bash mnist_run.sh"
      ],
      "metadata": {
        "colab": {
          "base_uri": "https://localhost:8080/"
        },
        "id": "7fqKx6Gap0Z1",
        "outputId": "cf1d45ca-96ef-4e98-bdc6-66a27bda5601"
      },
      "execution_count": 9,
      "outputs": [
        {
          "output_type": "stream",
          "name": "stdout",
          "text": [
            "[Errno 2] No such file or directory: 'OptimalDiffusion/Image-examples/mnist'\n",
            "/content/OptimalDiffusion/Image-examples/mnist\n",
            "7000\n",
            "/usr/local/lib/python3.10/dist-packages/torch/utils/data/dataloader.py:617: UserWarning: This DataLoader will create 8 worker processes in total. Our suggested max number of worker in current system is 2, which is smaller than what this DataLoader is going to create. Please be aware that excessive worker creation might get DataLoader running slow or even freeze, lower the worker number to avoid potential slowness/freeze if necessary.\n",
            "  warnings.warn(\n",
            "2024-12-16 10:26:47.340650\tfolder path: saved/mnist-default-True-False-64-0.0001-7000-1.4-1-ei\n",
            "Total number of parameters = 917890\n",
            "/usr/local/lib/python3.10/dist-packages/torch/utils/data/dataloader.py:617: UserWarning: This DataLoader will create 8 worker processes in total. Our suggested max number of worker in current system is 2, which is smaller than what this DataLoader is going to create. Please be aware that excessive worker creation might get DataLoader running slow or even freeze, lower the worker number to avoid potential slowness/freeze if necessary.\n",
            "  warnings.warn(\n",
            "2024-12-16 10:26:49.427762\t Iteration=        1\t Loss=390.8171\n",
            "2024-12-16 10:28:25.531669\t Iteration=     1000\t Loss=32.9898\n",
            "2024-12-16 10:30:02.964050\t Iteration=     2000\t Loss=15.5257\n",
            "2024-12-16 10:31:40.536498\t Iteration=     3000\t Loss=18.1491\n",
            "2024-12-16 10:33:18.903508\t Iteration=     4000\t Loss=14.6746\n",
            "2024-12-16 10:34:55.951763\t Iteration=     5000\t Loss=13.9235\n",
            "2024-12-16 10:36:33.153184\t Iteration=     6000\t Loss=19.7785\n",
            "2024-12-16 10:38:10.780581\t Iteration=     7000\t Loss=10.1243\n",
            "2024-12-16 10:38:10.781140\tFinished training\n",
            "7000\n",
            "2024-12-16 10:38:11.079733\tfolder path: saved/mnist-data-True-False-64-0.0001-7000-1.4-1-ei\n",
            "Total number of parameters = 917890\n",
            "2024-12-16 10:38:12.669506\t Iteration=        1\t Loss=382.1779\n",
            "2024-12-16 10:39:50.103131\t Iteration=     1000\t Loss=59.7919\n",
            "2024-12-16 10:41:27.925749\t Iteration=     2000\t Loss=23.7035\n",
            "2024-12-16 10:43:05.963235\t Iteration=     3000\t Loss=34.1543\n",
            "2024-12-16 10:44:44.979736\t Iteration=     4000\t Loss=23.1492\n",
            "2024-12-16 10:46:24.136891\t Iteration=     5000\t Loss=24.9753\n",
            "2024-12-16 10:48:03.272750\t Iteration=     6000\t Loss=43.0265\n",
            "2024-12-16 10:49:41.508681\t Iteration=     7000\t Loss=13.0937\n",
            "2024-12-16 10:49:41.509406\tFinished training\n",
            "7000\n",
            "2024-12-16 10:49:41.810193\tfolder path: saved/mnist-noise-True-False-64-0.0001-7000-1.4-1-ei\n",
            "Total number of parameters = 917890\n",
            "2024-12-16 10:49:43.388552\t Iteration=        1\t Loss=348.8988\n",
            "2024-12-16 10:51:21.043946\t Iteration=     1000\t Loss=15.6497\n",
            "2024-12-16 10:52:58.926185\t Iteration=     2000\t Loss=8.6117\n",
            "2024-12-16 10:54:36.714459\t Iteration=     3000\t Loss=7.5925\n",
            "2024-12-16 10:56:14.803670\t Iteration=     4000\t Loss=7.2594\n",
            "2024-12-16 10:57:53.605715\t Iteration=     5000\t Loss=5.9957\n",
            "2024-12-16 10:59:32.571383\t Iteration=     6000\t Loss=7.0152\n",
            "2024-12-16 11:01:12.249592\t Iteration=     7000\t Loss=6.5122\n",
            "2024-12-16 11:01:12.250213\tFinished training\n",
            "Number of iterations: 10000\n",
            "(0, 0, 0)\n",
            "  0% 0/6 [00:00<?, ?it/s]/usr/local/lib/python3.10/dist-packages/torch/utils/data/dataloader.py:617: UserWarning: This DataLoader will create 8 worker processes in total. Our suggested max number of worker in current system is 2, which is smaller than what this DataLoader is going to create. Please be aware that excessive worker creation might get DataLoader running slow or even freeze, lower the worker number to avoid potential slowness/freeze if necessary.\n",
            "  warnings.warn(\n",
            "2024-12-16 11:01:16.658964\tfolder path: saved/mnist-data-True-False-64-0.0001-10000-1.4-1-ei\n",
            "Total number of parameters = 917890\n",
            "/content/OptimalDiffusion/Image-examples/mnist/mnist_load_model.py:119: FutureWarning: You are using `torch.load` with `weights_only=False` (the current default value), which uses the default pickle module implicitly. It is possible to construct malicious pickle data which will execute arbitrary code during unpickling (See https://github.com/pytorch/pytorch/blob/main/SECURITY.md#untrusted-models for more details). In a future release, the default value for `weights_only` will be flipped to `True`. This limits the functions that could be executed during unpickling. Arbitrary objects will no longer be allowed to be loaded via this mode unless they are explicitly allowlisted by the user via `torch.serialization.add_safe_globals`. We recommend you start setting `weights_only=True` for any use case where you don't have full control of the loaded file. Please open an issue on GitHub for any issues related to this experimental feature.\n",
            "  gen_sde, optim, not_finished, count, loss_vec = torch.load(os.path.join(folder_path, 'checkpoint.pt'), map_location=device_str)\n",
            "/usr/local/lib/python3.10/dist-packages/torch/utils/data/dataloader.py:617: UserWarning: This DataLoader will create 8 worker processes in total. Our suggested max number of worker in current system is 2, which is smaller than what this DataLoader is going to create. Please be aware that excessive worker creation might get DataLoader running slow or even freeze, lower the worker number to avoid potential slowness/freeze if necessary.\n",
            "  warnings.warn(\n",
            "2024-12-16 11:03:04.386205\t Iteration=     4000\t Loss=42.2319\n",
            "2024-12-16 11:04:49.762520\t Iteration=     5000\t Loss=19.1056\n",
            "2024-12-16 11:06:34.368860\t Iteration=     6000\t Loss=29.7264\n",
            "2024-12-16 11:08:19.129239\t Iteration=     7000\t Loss=21.2583\n",
            "2024-12-16 11:10:03.601073\t Iteration=     8000\t Loss=22.6739\n",
            "2024-12-16 11:11:48.234756\t Iteration=     9000\t Loss=41.1001\n",
            "2024-12-16 11:13:32.582589\t Iteration=    10000\t Loss=12.6138\n",
            "2024-12-16 11:13:32.583265\tFinished training\n",
            " 17% 1/6 [12:17<1:01:28, 737.63s/it]/usr/local/lib/python3.10/dist-packages/torch/utils/data/dataloader.py:617: UserWarning: This DataLoader will create 8 worker processes in total. Our suggested max number of worker in current system is 2, which is smaller than what this DataLoader is going to create. Please be aware that excessive worker creation might get DataLoader running slow or even freeze, lower the worker number to avoid potential slowness/freeze if necessary.\n",
            "  warnings.warn(\n",
            "2024-12-16 11:13:34.320073\tfolder path: saved/mnist-data-True-False-64-0.0001-10000-1.4-1-ei\n",
            "Total number of parameters = 917890\n",
            "/content/OptimalDiffusion/Image-examples/mnist/mnist_load_model.py:119: FutureWarning: You are using `torch.load` with `weights_only=False` (the current default value), which uses the default pickle module implicitly. It is possible to construct malicious pickle data which will execute arbitrary code during unpickling (See https://github.com/pytorch/pytorch/blob/main/SECURITY.md#untrusted-models for more details). In a future release, the default value for `weights_only` will be flipped to `True`. This limits the functions that could be executed during unpickling. Arbitrary objects will no longer be allowed to be loaded via this mode unless they are explicitly allowlisted by the user via `torch.serialization.add_safe_globals`. We recommend you start setting `weights_only=True` for any use case where you don't have full control of the loaded file. Please open an issue on GitHub for any issues related to this experimental feature.\n",
            "  gen_sde, optim, not_finished, count, loss_vec = torch.load(os.path.join(folder_path, 'checkpoint.pt'), map_location=device_str)\n",
            "The model is fully trained and we simply load the checkpoint!\n",
            " 33% 2/6 [12:20<20:20, 305.17s/it]  2024-12-16 11:13:36.748969\tfolder path: saved/mnist-data-True-False-64-0.0001-10000-1.4-1-ei\n",
            "Total number of parameters = 917890\n",
            "The model is fully trained and we simply load the checkpoint!\n",
            " 50% 3/6 [12:22<08:20, 166.94s/it]2024-12-16 11:13:39.196484\tfolder path: saved/mnist-data-True-False-64-0.0001-10000-1.4-1-ei\n",
            "Total number of parameters = 917890\n",
            "The model is fully trained and we simply load the checkpoint!\n",
            " 67% 4/6 [12:24<03:23, 101.99s/it]2024-12-16 11:13:41.618827\tfolder path: saved/mnist-data-True-False-64-0.0001-10000-1.4-1-ei\n",
            "Total number of parameters = 917890\n",
            "The model is fully trained and we simply load the checkpoint!\n",
            " 83% 5/6 [12:27<01:06, 66.16s/it] 2024-12-16 11:13:44.305424\tfolder path: saved/mnist-data-True-False-64-0.0001-10000-1.4-1-ei\n",
            "Total number of parameters = 917890\n",
            "The model is fully trained and we simply load the checkpoint!\n",
            "100% 6/6 [12:30<00:00, 125.04s/it]\n",
            "(0, 0, 1)\n",
            "  0% 0/6 [00:00<?, ?it/s]2024-12-16 11:13:46.911080\tfolder path: saved/mnist-data-True-False-64-0.0001-10000-1.4-1-ei\n",
            "Total number of parameters = 917890\n",
            "The model is fully trained and we simply load the checkpoint!\n",
            " 17% 1/6 [00:03<00:16,  3.40s/it]2024-12-16 11:13:50.295462\tfolder path: saved/mnist-data-True-False-64-0.0001-10000-1.4-1-ei\n",
            "Total number of parameters = 917890\n",
            "The model is fully trained and we simply load the checkpoint!\n",
            " 33% 2/6 [00:06<00:13,  3.41s/it]2024-12-16 11:13:53.702935\tfolder path: saved/mnist-data-True-False-64-0.0001-10000-1.4-1-ei\n",
            "Total number of parameters = 917890\n",
            "The model is fully trained and we simply load the checkpoint!\n",
            " 50% 3/6 [00:10<00:10,  3.45s/it]2024-12-16 11:13:57.209739\tfolder path: saved/mnist-data-True-False-64-0.0001-10000-1.4-1-ei\n",
            "Total number of parameters = 917890\n",
            "The model is fully trained and we simply load the checkpoint!\n",
            " 67% 4/6 [00:13<00:06,  3.43s/it]2024-12-16 11:14:00.613283\tfolder path: saved/mnist-data-True-False-64-0.0001-10000-1.4-1-ei\n",
            "Total number of parameters = 917890\n",
            "The model is fully trained and we simply load the checkpoint!\n",
            " 83% 5/6 [00:17<00:03,  3.42s/it]2024-12-16 11:14:04.020651\tfolder path: saved/mnist-data-True-False-64-0.0001-10000-1.4-1-ei\n",
            "Total number of parameters = 917890\n",
            "The model is fully trained and we simply load the checkpoint!\n",
            "100% 6/6 [00:20<00:00,  3.43s/it]\n",
            "(0, 0, 2)\n",
            "  0% 0/6 [00:00<?, ?it/s]2024-12-16 11:14:07.513779\tfolder path: saved/mnist-data-True-False-64-0.0001-10000-1.4-1-ei\n",
            "Total number of parameters = 917890\n",
            "The model is fully trained and we simply load the checkpoint!\n",
            " 17% 1/6 [00:05<00:27,  5.42s/it]2024-12-16 11:14:12.883497\tfolder path: saved/mnist-data-True-False-64-0.0001-10000-1.4-1-ei\n",
            "Total number of parameters = 917890\n",
            "The model is fully trained and we simply load the checkpoint!\n",
            " 33% 2/6 [00:10<00:20,  5.02s/it]2024-12-16 11:14:17.625995\tfolder path: saved/mnist-data-True-False-64-0.0001-10000-1.4-1-ei\n",
            "Total number of parameters = 917890\n",
            "The model is fully trained and we simply load the checkpoint!\n",
            " 50% 3/6 [00:14<00:14,  4.89s/it]2024-12-16 11:14:22.381392\tfolder path: saved/mnist-data-True-False-64-0.0001-10000-1.4-1-ei\n",
            "Total number of parameters = 917890\n",
            "The model is fully trained and we simply load the checkpoint!\n",
            " 67% 4/6 [00:19<00:09,  4.84s/it]2024-12-16 11:14:27.129986\tfolder path: saved/mnist-data-True-False-64-0.0001-10000-1.4-1-ei\n",
            "Total number of parameters = 917890\n",
            "The model is fully trained and we simply load the checkpoint!\n",
            " 83% 5/6 [00:24<00:04,  4.80s/it]2024-12-16 11:14:31.862053\tfolder path: saved/mnist-data-True-False-64-0.0001-10000-1.4-1-ei\n",
            "Total number of parameters = 917890\n",
            "The model is fully trained and we simply load the checkpoint!\n",
            "100% 6/6 [00:29<00:00,  4.95s/it]\n",
            "(0, 0, 3)\n",
            "  0% 0/6 [00:00<?, ?it/s]2024-12-16 11:14:37.140280\tfolder path: saved/mnist-data-True-False-64-0.0001-10000-1.4-1-ei\n",
            "Total number of parameters = 917890\n",
            "The model is fully trained and we simply load the checkpoint!\n",
            " 17% 1/6 [00:08<00:40,  8.02s/it]2024-12-16 11:14:45.223622\tfolder path: saved/mnist-data-True-False-64-0.0001-10000-1.4-1-ei\n",
            "Total number of parameters = 917890\n",
            "The model is fully trained and we simply load the checkpoint!\n",
            " 33% 2/6 [00:16<00:33,  8.33s/it]2024-12-16 11:14:53.707919\tfolder path: saved/mnist-data-True-False-64-0.0001-10000-1.4-1-ei\n",
            "Total number of parameters = 917890\n",
            "The model is fully trained and we simply load the checkpoint!\n",
            " 50% 3/6 [00:24<00:24,  8.18s/it]2024-12-16 11:15:01.703927\tfolder path: saved/mnist-data-True-False-64-0.0001-10000-1.4-1-ei\n",
            "Total number of parameters = 917890\n",
            "The model is fully trained and we simply load the checkpoint!\n",
            " 67% 4/6 [00:32<00:16,  8.12s/it]2024-12-16 11:15:09.780468\tfolder path: saved/mnist-data-True-False-64-0.0001-10000-1.4-1-ei\n",
            "Total number of parameters = 917890\n",
            "The model is fully trained and we simply load the checkpoint!\n",
            " 83% 5/6 [00:41<00:08,  8.26s/it]2024-12-16 11:15:18.253143\tfolder path: saved/mnist-data-True-False-64-0.0001-10000-1.4-1-ei\n",
            "Total number of parameters = 917890\n",
            "The model is fully trained and we simply load the checkpoint!\n",
            "100% 6/6 [00:49<00:00,  8.21s/it]\n",
            "(0, 0, 4)\n",
            "  0% 0/6 [00:00<?, ?it/s]2024-12-16 11:15:26.392492\tfolder path: saved/mnist-data-True-False-64-0.0001-10000-1.4-1-ei\n",
            "Total number of parameters = 917890\n",
            "The model is fully trained and we simply load the checkpoint!\n",
            " 17% 1/6 [00:33<02:49, 34.00s/it]2024-12-16 11:16:00.448941\tfolder path: saved/mnist-data-True-False-64-0.0001-10000-1.4-1-ei\n",
            "Total number of parameters = 917890\n",
            "The model is fully trained and we simply load the checkpoint!\n",
            " 33% 2/6 [01:08<02:16, 34.17s/it]2024-12-16 11:16:34.673858\tfolder path: saved/mnist-data-True-False-64-0.0001-10000-1.4-1-ei\n",
            "Total number of parameters = 917890\n",
            "The model is fully trained and we simply load the checkpoint!\n",
            " 50% 3/6 [01:42<01:42, 34.10s/it]2024-12-16 11:17:08.700196\tfolder path: saved/mnist-data-True-False-64-0.0001-10000-1.4-1-ei\n",
            "Total number of parameters = 917890\n",
            "The model is fully trained and we simply load the checkpoint!\n",
            " 67% 4/6 [02:16<01:08, 34.10s/it]2024-12-16 11:17:42.812733\tfolder path: saved/mnist-data-True-False-64-0.0001-10000-1.4-1-ei\n",
            "Total number of parameters = 917890\n",
            "The model is fully trained and we simply load the checkpoint!\n",
            " 83% 5/6 [02:50<00:34, 34.11s/it]2024-12-16 11:18:16.922042\tfolder path: saved/mnist-data-True-False-64-0.0001-10000-1.4-1-ei\n",
            "Total number of parameters = 917890\n",
            "The model is fully trained and we simply load the checkpoint!\n",
            "100% 6/6 [03:24<00:00, 34.11s/it]\n",
            "(0, 1, 0)\n",
            "  0% 0/6 [00:00<?, ?it/s]2024-12-16 11:18:51.027917\tfolder path: saved/mnist-data-True-False-64-0.0001-10000-1.4-2-ei\n",
            "Total number of parameters = 917890\n",
            "2024-12-16 11:18:53.200831\t Iteration=        1\t Loss=384.1414\n",
            "2024-12-16 11:20:31.932371\t Iteration=     1000\t Loss=31.6930\n",
            "2024-12-16 11:22:09.793276\t Iteration=     2000\t Loss=25.0788\n",
            "2024-12-16 11:23:48.328802\t Iteration=     3000\t Loss=20.1690\n",
            "2024-12-16 11:25:26.380621\t Iteration=     4000\t Loss=25.2003\n",
            "2024-12-16 11:27:04.722204\t Iteration=     5000\t Loss=29.1802\n",
            "2024-12-16 11:28:42.870860\t Iteration=     6000\t Loss=27.1270\n",
            "2024-12-16 11:30:21.756482\t Iteration=     7000\t Loss=24.5777\n",
            "  0% 0/6 [11:44<?, ?it/s]\n",
            "Traceback (most recent call last):\n",
            "  File \"/content/OptimalDiffusion/Image-examples/mnist/mnist_visualize.py\", line 57, in <module>\n",
            "    gen_sde, args, logit, _ = load_model(\n",
            "  File \"/content/OptimalDiffusion/Image-examples/mnist/mnist_load_model.py\", line 162, in load_model\n",
            "    torch.cuda.empty_cache()\n",
            "  File \"/usr/local/lib/python3.10/dist-packages/torch/cuda/memory.py\", line 192, in empty_cache\n",
            "    torch._C._cuda_emptyCache()\n",
            "KeyboardInterrupt\n",
            "/usr/local/lib/python3.10/dist-packages/torch/utils/data/dataloader.py:617: UserWarning: This DataLoader will create 8 worker processes in total. Our suggested max number of worker in current system is 2, which is smaller than what this DataLoader is going to create. Please be aware that excessive worker creation might get DataLoader running slow or even freeze, lower the worker number to avoid potential slowness/freeze if necessary.\n",
            "  warnings.warn(\n",
            "2024-12-16 11:30:39.738341\tfolder path: saved/mnist-default-True-False-64-0.0001-20000-1.4-1-ei\n",
            "Total number of parameters = 917890\n",
            "/content/OptimalDiffusion/Image-examples/mnist/mnist_load_model.py:119: FutureWarning: You are using `torch.load` with `weights_only=False` (the current default value), which uses the default pickle module implicitly. It is possible to construct malicious pickle data which will execute arbitrary code during unpickling (See https://github.com/pytorch/pytorch/blob/main/SECURITY.md#untrusted-models for more details). In a future release, the default value for `weights_only` will be flipped to `True`. This limits the functions that could be executed during unpickling. Arbitrary objects will no longer be allowed to be loaded via this mode unless they are explicitly allowlisted by the user via `torch.serialization.add_safe_globals`. We recommend you start setting `weights_only=True` for any use case where you don't have full control of the loaded file. Please open an issue on GitHub for any issues related to this experimental feature.\n",
            "  gen_sde, optim, not_finished, count, loss_vec = torch.load(os.path.join(folder_path, 'checkpoint.pt'), map_location=device_str)\n",
            "/usr/local/lib/python3.10/dist-packages/torch/utils/data/dataloader.py:617: UserWarning: This DataLoader will create 8 worker processes in total. Our suggested max number of worker in current system is 2, which is smaller than what this DataLoader is going to create. Please be aware that excessive worker creation might get DataLoader running slow or even freeze, lower the worker number to avoid potential slowness/freeze if necessary.\n",
            "  warnings.warn(\n",
            "Traceback (most recent call last):\n",
            "  File \"/content/OptimalDiffusion/Image-examples/mnist/mnist_visualize_err.py\", line 19, in <module>\n",
            "    _, args, logit, _ = load_model(\"default\", 1, num_iterations, num_method=\"ei\");\n",
            "  File \"/content/OptimalDiffusion/Image-examples/mnist/mnist_load_model.py\", line 138, in load_model\n",
            "    loss = gen_sde.dsm(x, w=w).mean()\n",
            "  File \"/usr/local/lib/python3.10/dist-packages/torch/utils/_contextlib.py\", line 116, in decorate_context\n",
            "    return func(*args, **kwargs)\n",
            "  File \"/content/OptimalDiffusion/Image-examples/mnist/../lib/sdes.py\", line 111, in dsm\n",
            "    a = self.a(y, t_.squeeze())\n",
            "  File \"/usr/local/lib/python3.10/dist-packages/torch/nn/modules/module.py\", line 1736, in _wrapped_call_impl\n",
            "    return self._call_impl(*args, **kwargs)\n",
            "  File \"/usr/local/lib/python3.10/dist-packages/torch/nn/modules/module.py\", line 1747, in _call_impl\n",
            "    return forward_call(*args, **kwargs)\n",
            "  File \"/content/OptimalDiffusion/Image-examples/mnist/../lib/models/unet.py\", line 373, in forward\n",
            "    temb = self.temb_net(temp)\n",
            "  File \"/usr/local/lib/python3.10/dist-packages/torch/nn/modules/module.py\", line 1736, in _wrapped_call_impl\n",
            "    return self._call_impl(*args, **kwargs)\n",
            "  File \"/usr/local/lib/python3.10/dist-packages/torch/nn/modules/module.py\", line 1747, in _call_impl\n",
            "    return forward_call(*args, **kwargs)\n",
            "  File \"/content/OptimalDiffusion/Image-examples/mnist/../lib/models/unet.py\", line 237, in forward\n",
            "    temb = self.main(temb)\n",
            "  File \"/usr/local/lib/python3.10/dist-packages/torch/nn/modules/module.py\", line 1736, in _wrapped_call_impl\n",
            "    return self._call_impl(*args, **kwargs)\n",
            "  File \"/usr/local/lib/python3.10/dist-packages/torch/nn/modules/module.py\", line 1747, in _call_impl\n",
            "    return forward_call(*args, **kwargs)\n",
            "  File \"/usr/local/lib/python3.10/dist-packages/torch/nn/modules/container.py\", line 250, in forward\n",
            "    input = module(input)\n",
            "  File \"/usr/local/lib/python3.10/dist-packages/torch/nn/modules/module.py\", line 1736, in _wrapped_call_impl\n",
            "    return self._call_impl(*args, **kwargs)\n",
            "  File \"/usr/local/lib/python3.10/dist-packages/torch/nn/modules/module.py\", line 1747, in _call_impl\n",
            "    return forward_call(*args, **kwargs)\n",
            "  File \"/usr/local/lib/python3.10/dist-packages/torch/nn/modules/linear.py\", line 125, in forward\n",
            "    return F.linear(input, self.weight, self.bias)\n",
            "KeyboardInterrupt\n",
            "^C\n"
          ]
        }
      ]
    },
    {
      "cell_type": "code",
      "source": [
        "!zip -r /content/file.zip /content/OptimalDiffusion/Image-examples/mnist/saved"
      ],
      "metadata": {
        "colab": {
          "base_uri": "https://localhost:8080/"
        },
        "id": "zkmxgyQWqpA6",
        "outputId": "a0f2ccfb-6352-432e-ce4f-57d77dd584b9"
      },
      "execution_count": 10,
      "outputs": [
        {
          "output_type": "stream",
          "name": "stdout",
          "text": [
            "  adding: content/OptimalDiffusion/Image-examples/mnist/saved/ (stored 0%)\n",
            "  adding: content/OptimalDiffusion/Image-examples/mnist/saved/mnist-data-True-False-64-0.0001-7000-1.4-1-ei/ (stored 0%)\n",
            "  adding: content/OptimalDiffusion/Image-examples/mnist/saved/mnist-data-True-False-64-0.0001-7000-1.4-1-ei/env.txt (deflated 60%)\n",
            "  adding: content/OptimalDiffusion/Image-examples/mnist/saved/mnist-data-True-False-64-0.0001-7000-1.4-1-ei/args.txt (deflated 54%)\n",
            "  adding: content/OptimalDiffusion/Image-examples/mnist/saved/mnist-data-True-False-64-0.0001-7000-1.4-1-ei/checkpoint.pt (deflated 10%)\n",
            "  adding: content/OptimalDiffusion/Image-examples/mnist/saved/mnist-data-True-False-64-0.0001-7000-1.4-1-ei/log.txt (deflated 17%)\n",
            "  adding: content/OptimalDiffusion/Image-examples/mnist/saved/mnist-data-True-False-64-0.0001-7000-1.4-1-ei/events.out.tfevents.1734345492.3ceac0981ef7 (deflated 50%)\n",
            "  adding: content/OptimalDiffusion/Image-examples/mnist/saved/mnist-data-True-False-64-0.0001-10000-1.4-2-ei/ (stored 0%)\n",
            "  adding: content/OptimalDiffusion/Image-examples/mnist/saved/mnist-data-True-False-64-0.0001-10000-1.4-2-ei/env.txt (deflated 60%)\n",
            "  adding: content/OptimalDiffusion/Image-examples/mnist/saved/mnist-data-True-False-64-0.0001-10000-1.4-2-ei/args.txt (deflated 55%)\n",
            "  adding: content/OptimalDiffusion/Image-examples/mnist/saved/mnist-data-True-False-64-0.0001-10000-1.4-2-ei/checkpoint.pt (deflated 10%)\n",
            "  adding: content/OptimalDiffusion/Image-examples/mnist/saved/mnist-data-True-False-64-0.0001-10000-1.4-2-ei/log.txt (deflated 3%)\n",
            "  adding: content/OptimalDiffusion/Image-examples/mnist/saved/mnist-data-True-False-64-0.0001-10000-1.4-2-ei/events.out.tfevents.1734347932.3ceac0981ef7 (deflated 50%)\n",
            "  adding: content/OptimalDiffusion/Image-examples/mnist/saved/mnist-default-True-False-64-0.0001-7000-1.4-1-ei/ (stored 0%)\n",
            "  adding: content/OptimalDiffusion/Image-examples/mnist/saved/mnist-default-True-False-64-0.0001-7000-1.4-1-ei/env.txt (deflated 60%)\n",
            "  adding: content/OptimalDiffusion/Image-examples/mnist/saved/mnist-default-True-False-64-0.0001-7000-1.4-1-ei/args.txt (deflated 54%)\n",
            "  adding: content/OptimalDiffusion/Image-examples/mnist/saved/mnist-default-True-False-64-0.0001-7000-1.4-1-ei/checkpoint.pt (deflated 10%)\n",
            "  adding: content/OptimalDiffusion/Image-examples/mnist/saved/mnist-default-True-False-64-0.0001-7000-1.4-1-ei/log.txt (deflated 18%)\n",
            "  adding: content/OptimalDiffusion/Image-examples/mnist/saved/mnist-default-True-False-64-0.0001-7000-1.4-1-ei/events.out.tfevents.1734344808.3ceac0981ef7 (deflated 50%)\n",
            "  adding: content/OptimalDiffusion/Image-examples/mnist/saved/mnist-default-True-False-64-0.0001-0-1.4-1-ei/ (stored 0%)\n",
            "  adding: content/OptimalDiffusion/Image-examples/mnist/saved/mnist-default-True-False-64-0.0001-0-1.4-1-ei/env.txt (deflated 60%)\n",
            "  adding: content/OptimalDiffusion/Image-examples/mnist/saved/mnist-default-True-False-64-0.0001-0-1.4-1-ei/args.txt (deflated 54%)\n",
            "  adding: content/OptimalDiffusion/Image-examples/mnist/saved/mnist-default-True-False-64-0.0001-0-1.4-1-ei/events.out.tfevents.1734344537.3ceac0981ef7 (deflated 12%)\n",
            "  adding: content/OptimalDiffusion/Image-examples/mnist/saved/mnist-default-True-False-64-0.0001-0-1.4-1-ei/log.txt (deflated 4%)\n",
            "  adding: content/OptimalDiffusion/Image-examples/mnist/saved/mnist-noise-True-False-64-0.0001-7000-1.4-1-ei/ (stored 0%)\n",
            "  adding: content/OptimalDiffusion/Image-examples/mnist/saved/mnist-noise-True-False-64-0.0001-7000-1.4-1-ei/env.txt (deflated 60%)\n",
            "  adding: content/OptimalDiffusion/Image-examples/mnist/saved/mnist-noise-True-False-64-0.0001-7000-1.4-1-ei/args.txt (deflated 54%)\n",
            "  adding: content/OptimalDiffusion/Image-examples/mnist/saved/mnist-noise-True-False-64-0.0001-7000-1.4-1-ei/checkpoint.pt (deflated 10%)\n",
            "  adding: content/OptimalDiffusion/Image-examples/mnist/saved/mnist-noise-True-False-64-0.0001-7000-1.4-1-ei/log.txt (deflated 17%)\n",
            "  adding: content/OptimalDiffusion/Image-examples/mnist/saved/mnist-noise-True-False-64-0.0001-7000-1.4-1-ei/events.out.tfevents.1734346182.3ceac0981ef7 (deflated 50%)\n",
            "  adding: content/OptimalDiffusion/Image-examples/mnist/saved/mnist-default-True-False-64-0.0001-20000-1.4-1-ei/ (stored 0%)\n",
            "  adding: content/OptimalDiffusion/Image-examples/mnist/saved/mnist-default-True-False-64-0.0001-20000-1.4-1-ei/env.txt (deflated 60%)\n",
            "  adding: content/OptimalDiffusion/Image-examples/mnist/saved/mnist-default-True-False-64-0.0001-20000-1.4-1-ei/args.txt (deflated 54%)\n",
            "  adding: content/OptimalDiffusion/Image-examples/mnist/saved/mnist-default-True-False-64-0.0001-20000-1.4-1-ei/checkpoint.pt (deflated 10%)\n",
            "  adding: content/OptimalDiffusion/Image-examples/mnist/saved/mnist-default-True-False-64-0.0001-20000-1.4-1-ei/log.txt (deflated 44%)\n",
            "  adding: content/OptimalDiffusion/Image-examples/mnist/saved/mnist-default-True-False-64-0.0001-20000-1.4-1-ei/events.out.tfevents.1734348641.3ceac0981ef7 (deflated 5%)\n",
            "  adding: content/OptimalDiffusion/Image-examples/mnist/saved/mnist-default-True-False-64-0.0001-20000-1.4-1-ei/events.out.tfevents.1734343225.3ceac0981ef7 (deflated 53%)\n",
            "  adding: content/OptimalDiffusion/Image-examples/mnist/saved/mnist-data-True-False-64-0.0001-10000-1.4-1-ei/ (stored 0%)\n",
            "  adding: content/OptimalDiffusion/Image-examples/mnist/saved/mnist-data-True-False-64-0.0001-10000-1.4-1-ei/events.out.tfevents.1734347694.3ceac0981ef7 (deflated 3%)\n",
            "  adding: content/OptimalDiffusion/Image-examples/mnist/saved/mnist-data-True-False-64-0.0001-10000-1.4-1-ei/env.txt (deflated 60%)\n",
            "  adding: content/OptimalDiffusion/Image-examples/mnist/saved/mnist-data-True-False-64-0.0001-10000-1.4-1-ei/args.txt (deflated 55%)\n",
            "  adding: content/OptimalDiffusion/Image-examples/mnist/saved/mnist-data-True-False-64-0.0001-10000-1.4-1-ei/events.out.tfevents.1734347663.3ceac0981ef7 (deflated 5%)\n",
            "  adding: content/OptimalDiffusion/Image-examples/mnist/saved/mnist-data-True-False-64-0.0001-10000-1.4-1-ei/events.out.tfevents.1734347631.3ceac0981ef7 (deflated 5%)\n",
            "  adding: content/OptimalDiffusion/Image-examples/mnist/saved/mnist-data-True-False-64-0.0001-10000-1.4-1-ei/events.out.tfevents.1734347673.3ceac0981ef7 (deflated 5%)\n",
            "  adding: content/OptimalDiffusion/Image-examples/mnist/saved/mnist-data-True-False-64-0.0001-10000-1.4-1-ei/events.out.tfevents.1734347645.3ceac0981ef7 (deflated 5%)\n",
            "  adding: content/OptimalDiffusion/Image-examples/mnist/saved/mnist-data-True-False-64-0.0001-10000-1.4-1-ei/events.out.tfevents.1734347702.3ceac0981ef7 (deflated 5%)\n",
            "  adding: content/OptimalDiffusion/Image-examples/mnist/saved/mnist-data-True-False-64-0.0001-10000-1.4-1-ei/checkpoint.pt (deflated 10%)\n",
            "  adding: content/OptimalDiffusion/Image-examples/mnist/saved/mnist-data-True-False-64-0.0001-10000-1.4-1-ei/events.out.tfevents.1734347658.3ceac0981ef7 (deflated 5%)\n",
            "  adding: content/OptimalDiffusion/Image-examples/mnist/saved/mnist-data-True-False-64-0.0001-10000-1.4-1-ei/events.out.tfevents.1734347829.3ceac0981ef7 (deflated 5%)\n",
            "  adding: content/OptimalDiffusion/Image-examples/mnist/saved/mnist-data-True-False-64-0.0001-10000-1.4-1-ei/events.out.tfevents.1734347654.3ceac0981ef7 (deflated 5%)\n",
            "  adding: content/OptimalDiffusion/Image-examples/mnist/saved/mnist-data-True-False-64-0.0001-10000-1.4-1-ei/events.out.tfevents.1734347649.3ceac0981ef7 (deflated 5%)\n",
            "  adding: content/OptimalDiffusion/Image-examples/mnist/saved/mnist-data-True-False-64-0.0001-10000-1.4-1-ei/log.txt (deflated 88%)\n",
            "  adding: content/OptimalDiffusion/Image-examples/mnist/saved/mnist-data-True-False-64-0.0001-10000-1.4-1-ei/events.out.tfevents.1734344372.3ceac0981ef7 (deflated 33%)\n",
            "  adding: content/OptimalDiffusion/Image-examples/mnist/saved/mnist-data-True-False-64-0.0001-10000-1.4-1-ei/events.out.tfevents.1734347641.3ceac0981ef7 (deflated 5%)\n",
            "  adding: content/OptimalDiffusion/Image-examples/mnist/saved/mnist-data-True-False-64-0.0001-10000-1.4-1-ei/events.out.tfevents.1734347711.3ceac0981ef7 (deflated 5%)\n",
            "  adding: content/OptimalDiffusion/Image-examples/mnist/saved/mnist-data-True-False-64-0.0001-10000-1.4-1-ei/events.out.tfevents.1734347615.3ceac0981ef7 (deflated 5%)\n",
            "  adding: content/OptimalDiffusion/Image-examples/mnist/saved/mnist-data-True-False-64-0.0001-10000-1.4-1-ei/events.out.tfevents.1734347864.3ceac0981ef7 (deflated 5%)\n",
            "  adding: content/OptimalDiffusion/Image-examples/mnist/saved/mnist-data-True-False-64-0.0001-10000-1.4-1-ei/events.out.tfevents.1734347719.3ceac0981ef7 (deflated 5%)\n",
            "  adding: content/OptimalDiffusion/Image-examples/mnist/saved/mnist-data-True-False-64-0.0001-10000-1.4-1-ei/events.out.tfevents.1734347761.3ceac0981ef7 (deflated 5%)\n",
            "  adding: content/OptimalDiffusion/Image-examples/mnist/saved/mnist-data-True-False-64-0.0001-10000-1.4-1-ei/events.out.tfevents.1734347638.3ceac0981ef7 (deflated 5%)\n",
            "  adding: content/OptimalDiffusion/Image-examples/mnist/saved/mnist-data-True-False-64-0.0001-10000-1.4-1-ei/events.out.tfevents.1734347898.3ceac0981ef7 (deflated 5%)\n",
            "  adding: content/OptimalDiffusion/Image-examples/mnist/saved/mnist-data-True-False-64-0.0001-10000-1.4-1-ei/events.out.tfevents.1734347628.3ceac0981ef7 (deflated 5%)\n",
            "  adding: content/OptimalDiffusion/Image-examples/mnist/saved/mnist-data-True-False-64-0.0001-10000-1.4-1-ei/events.out.tfevents.1734347634.3ceac0981ef7 (deflated 5%)\n",
            "  adding: content/OptimalDiffusion/Image-examples/mnist/saved/mnist-data-True-False-64-0.0001-10000-1.4-1-ei/events.out.tfevents.1734347620.3ceac0981ef7 (deflated 5%)\n",
            "  adding: content/OptimalDiffusion/Image-examples/mnist/saved/mnist-data-True-False-64-0.0001-10000-1.4-1-ei/events.out.tfevents.1734347678.3ceac0981ef7 (deflated 5%)\n",
            "  adding: content/OptimalDiffusion/Image-examples/mnist/saved/mnist-data-True-False-64-0.0001-10000-1.4-1-ei/events.out.tfevents.1734347617.3ceac0981ef7 (deflated 5%)\n",
            "  adding: content/OptimalDiffusion/Image-examples/mnist/saved/mnist-data-True-False-64-0.0001-10000-1.4-1-ei/events.out.tfevents.1734347686.3ceac0981ef7 (deflated 5%)\n",
            "  adding: content/OptimalDiffusion/Image-examples/mnist/saved/mnist-data-True-False-64-0.0001-10000-1.4-1-ei/events.out.tfevents.1734347622.3ceac0981ef7 (deflated 5%)\n",
            "  adding: content/OptimalDiffusion/Image-examples/mnist/saved/mnist-data-True-False-64-0.0001-10000-1.4-1-ei/events.out.tfevents.1734347668.3ceac0981ef7 (deflated 5%)\n",
            "  adding: content/OptimalDiffusion/Image-examples/mnist/saved/mnist-data-True-False-64-0.0001-10000-1.4-1-ei/events.out.tfevents.1734347625.3ceac0981ef7 (deflated 5%)\n",
            "  adding: content/OptimalDiffusion/Image-examples/mnist/saved/mnist-data-True-False-64-0.0001-10000-1.4-1-ei/events.out.tfevents.1734346877.3ceac0981ef7 (deflated 51%)\n",
            "  adding: content/OptimalDiffusion/Image-examples/mnist/saved/mnist-data-True-False-64-0.0001-10000-1.4-1-ei/events.out.tfevents.1734344544.3ceac0981ef7 (deflated 35%)\n",
            "  adding: content/OptimalDiffusion/Image-examples/mnist/saved/mnist-data-True-False-64-0.0001-10000-1.4-1-ei/events.out.tfevents.1734347795.3ceac0981ef7 (deflated 5%)\n",
            "  adding: content/OptimalDiffusion/Image-examples/mnist/saved/mnist-data-True-False-64-0.0001-10000-1.4-1-ei/events.out.tfevents.1734347727.3ceac0981ef7 (deflated 5%)\n"
          ]
        }
      ]
    },
    {
      "cell_type": "code",
      "source": [
        "from google.colab import files\n",
        "files.download(\"/content/file.zip\")"
      ],
      "metadata": {
        "colab": {
          "base_uri": "https://localhost:8080/",
          "height": 34
        },
        "id": "yO2jfhiFPHrM",
        "outputId": "a6ab0a95-1b64-47a5-ba61-9d91c8caf080"
      },
      "execution_count": 11,
      "outputs": [
        {
          "output_type": "display_data",
          "data": {
            "text/plain": [
              "<IPython.core.display.Javascript object>"
            ],
            "application/javascript": [
              "\n",
              "    async function download(id, filename, size) {\n",
              "      if (!google.colab.kernel.accessAllowed) {\n",
              "        return;\n",
              "      }\n",
              "      const div = document.createElement('div');\n",
              "      const label = document.createElement('label');\n",
              "      label.textContent = `Downloading \"${filename}\": `;\n",
              "      div.appendChild(label);\n",
              "      const progress = document.createElement('progress');\n",
              "      progress.max = size;\n",
              "      div.appendChild(progress);\n",
              "      document.body.appendChild(div);\n",
              "\n",
              "      const buffers = [];\n",
              "      let downloaded = 0;\n",
              "\n",
              "      const channel = await google.colab.kernel.comms.open(id);\n",
              "      // Send a message to notify the kernel that we're ready.\n",
              "      channel.send({})\n",
              "\n",
              "      for await (const message of channel.messages) {\n",
              "        // Send a message to notify the kernel that we're ready.\n",
              "        channel.send({})\n",
              "        if (message.buffers) {\n",
              "          for (const buffer of message.buffers) {\n",
              "            buffers.push(buffer);\n",
              "            downloaded += buffer.byteLength;\n",
              "            progress.value = downloaded;\n",
              "          }\n",
              "        }\n",
              "      }\n",
              "      const blob = new Blob(buffers, {type: 'application/binary'});\n",
              "      const a = document.createElement('a');\n",
              "      a.href = window.URL.createObjectURL(blob);\n",
              "      a.download = filename;\n",
              "      div.appendChild(a);\n",
              "      a.click();\n",
              "      div.remove();\n",
              "    }\n",
              "  "
            ]
          },
          "metadata": {}
        },
        {
          "output_type": "display_data",
          "data": {
            "text/plain": [
              "<IPython.core.display.Javascript object>"
            ],
            "application/javascript": [
              "download(\"download_26c70da2-f299-4c38-8d77-faaee6e8578c\", \"file.zip\", 61327911)"
            ]
          },
          "metadata": {}
        }
      ]
    },
    {
      "cell_type": "code",
      "source": [],
      "metadata": {
        "id": "MPbjBcY0PM7o"
      },
      "execution_count": null,
      "outputs": []
    }
  ]
}